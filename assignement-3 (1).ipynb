{
 "cells": [
  {
   "cell_type": "markdown",
   "metadata": {},
   "source": [
    "## ASSIGNMENT-3\n"
   ]
  },
  {
   "cell_type": "code",
   "execution_count": 1,
   "metadata": {},
   "outputs": [
    {
     "name": "stdout",
     "output_type": "stream",
     "text": [
      "Enter the number: 2\n",
      "Enter the second number: 3\n",
      "Output is:  8\n"
     ]
    }
   ],
   "source": [
    "#QUESTION-1\n",
    "def power(x,y):\n",
    "    c=x**y\n",
    "    print(\"Output is: \",c)\n",
    "a=int(input(\"Enter the number: \"))\n",
    "b=int(input(\"Enter the second number: \"))\n",
    "power(a,b)"
   ]
  },
  {
   "cell_type": "code",
   "execution_count": 13,
   "metadata": {},
   "outputs": [
    {
     "name": "stdout",
     "output_type": "stream",
     "text": [
      "Enter the string: hello\n",
      "Enter the second string: world\n",
      "Concatenated string is: hello world\n"
     ]
    }
   ],
   "source": [
    "#QUESTION-2\n",
    "def concatenate(str1,str2):\n",
    "        c=str1+\" \"+str2\n",
    "        print(\"Concatenated string is:\",c)\n",
    "a=input(\"Enter the string: \")\n",
    "b=input(\"Enter the second string: \")\n",
    "concatenate(a,b)"
   ]
  },
  {
   "cell_type": "code",
   "execution_count": 18,
   "metadata": {},
   "outputs": [
    {
     "name": "stdout",
     "output_type": "stream",
     "text": [
      "Enter the no: 2\n",
      "Even\n"
     ]
    }
   ],
   "source": [
    "#QUESTION-3\n",
    "def check(n):\n",
    "    return(bool(n%2==0))\n",
    "a=int(input(\"Enter the no: \"))\n",
    "if (check(a)):\n",
    "    print(\"Even\")\n",
    "else:\n",
    "    print(\"Odd\")\n",
    "\n",
    "        "
   ]
  },
  {
   "cell_type": "code",
   "execution_count": 27,
   "metadata": {},
   "outputs": [
    {
     "name": "stdout",
     "output_type": "stream",
     "text": [
      "Enter the number: 7\n",
      "prime no.\n"
     ]
    }
   ],
   "source": [
    "#QUESTION-4\n",
    "def prime(n):\n",
    "    flag=0\n",
    "    for i in range(2,n):\n",
    "        if(n%i==0):\n",
    "            flag=1\n",
    "            return(bool(flag))\n",
    "            break\n",
    "a=int(input(\"Enter the number: \"))\n",
    "if(prime(a)):\n",
    "    print(\" Not Prime no\")\n",
    "else:\n",
    "    print(\"prime no.\")"
   ]
  },
  {
   "cell_type": "code",
   "execution_count": 31,
   "metadata": {},
   "outputs": [
    {
     "name": "stdout",
     "output_type": "stream",
     "text": [
      "Enter the string: abba\n",
      "True\n"
     ]
    }
   ],
   "source": [
    "#QUESTION-5\n",
    "def palindrome(ch):\n",
    "    ch1=ch[::-1]\n",
    "    return(bool(ch1==ch))\n",
    "a=input(\"Enter the string: \")\n",
    "if(palindrome(a)):\n",
    "    print(\"True\")\n",
    "else:\n",
    "    print(\"False\")"
   ]
  },
  {
   "cell_type": "code",
   "execution_count": 37,
   "metadata": {},
   "outputs": [
    {
     "name": "stdout",
     "output_type": "stream",
     "text": [
      "Enter the string: I am coding block student\n",
      "The words in this string are: 5\n"
     ]
    }
   ],
   "source": [
    "#QUESTION-6\n",
    "a=input(\"Enter the string: \")\n",
    "print(\"The words in this string are: \",end=\"\")\n",
    "print(len((a.split())))"
   ]
  },
  {
   "cell_type": "code",
   "execution_count": 41,
   "metadata": {},
   "outputs": [
    {
     "name": "stdout",
     "output_type": "stream",
     "text": [
      "Enter the first number: 4\n",
      "Enter the second number: 9\n",
      "Enter the third number: 2\n",
      "The largest among all the no is:9\n"
     ]
    }
   ],
   "source": [
    "#QUESTION-7\n",
    "def large(a,b,c):\n",
    "    if(a>b):\n",
    "        if (a>c):\n",
    "            print(a)\n",
    "    elif(b>c):\n",
    "        print(b)\n",
    "    else:\n",
    "        print(c)\n",
    "n=int(input(\"Enter the first number: \"))\n",
    "m=int(input(\"Enter the second number: \"))\n",
    "l=int(input(\"Enter the third number: \"))\n",
    "print(\"The largest among all the no is:\",end=\"\")\n",
    "large(n,m,l)"
   ]
  },
  {
   "cell_type": "code",
   "execution_count": 2,
   "metadata": {},
   "outputs": [
    {
     "name": "stdout",
     "output_type": "stream",
     "text": [
      "Enter the number: 10\n",
      "Enter the number: 4\n",
      "5\n",
      "11\n",
      "14\n",
      "17\n",
      "23\n",
      "26\n",
      "29\n",
      "35\n",
      "38\n",
      "41\n"
     ]
    }
   ],
   "source": [
    "#QUESTION-8\n",
    "def series(n1,n2):\n",
    "    count=0\n",
    "    i=1\n",
    "    while(True):\n",
    "        if(((3*i)+2)%n2==0):\n",
    "            i+=1\n",
    "            pass\n",
    "        else:\n",
    "            print((3*i)+2)\n",
    "            i+=1\n",
    "            count+=1\n",
    "        if(count==n1):\n",
    "            break\n",
    "n=int(input(\"Enter the number: \"))\n",
    "m=int(input(\"Enter the number: \"))\n",
    "series(n,m)"
   ]
  },
  {
   "cell_type": "code",
   "execution_count": 43,
   "metadata": {},
   "outputs": [
    {
     "name": "stdout",
     "output_type": "stream",
     "text": [
      "Enter the number: 123\n",
      "The reverse is:321"
     ]
    }
   ],
   "source": [
    "#QUESTION-9\n",
    "def reverse(n):\n",
    "    reverse=0    \n",
    "    while(n>0):    \n",
    "        reminder=n%10    \n",
    "        reverse=(reverse*10)+reminder   \n",
    "        n=n//10\n",
    "    print(reverse,end=\"\")\n",
    "b=int(input(\"Enter the number: \"))\n",
    "print(\"The reverse is:\",end=\"\")\n",
    "reverse(b)"
   ]
  },
  {
   "cell_type": "code",
   "execution_count": 12,
   "metadata": {},
   "outputs": [
    {
     "name": "stdout",
     "output_type": "stream",
     "text": [
      "Enter the first number: 1\n",
      "Enter the second number: 45\n",
      "Enter the third number: 9\n",
      "The largest among all the no is:45\n"
     ]
    }
   ],
   "source": [
    "#QUESTION-10(already done in question-7)\n",
    "def large(a,b,c):\n",
    "    if(a>b):\n",
    "        if (a>c):\n",
    "            print(a)\n",
    "    elif(b>c):\n",
    "        print(b)\n",
    "    else:\n",
    "        print(c)\n",
    "n=int(input(\"Enter the first number: \"))\n",
    "m=int(input(\"Enter the second number: \"))\n",
    "l=int(input(\"Enter the third number: \"))\n",
    "print(\"The largest among all the no is:\",end=\"\")\n",
    "large(n,m,l)"
   ]
  },
  {
   "cell_type": "code",
   "execution_count": 17,
   "metadata": {},
   "outputs": [
    {
     "name": "stdout",
     "output_type": "stream",
     "text": [
      "Enter the number for the table you want to generate:10\n",
      "10 * 1 = 10\n",
      "10 * 2 = 20\n",
      "10 * 3 = 30\n",
      "10 * 4 = 40\n",
      "10 * 5 = 50\n",
      "10 * 6 = 60\n",
      "10 * 7 = 70\n",
      "10 * 8 = 80\n",
      "10 * 9 = 90\n",
      "10 * 10 = 100\n"
     ]
    }
   ],
   "source": [
    "#QUESTION-12\n",
    "def table(n):\n",
    "    for i in range(1,11):\n",
    "        print(n,\"*\",i,\"=\",n*i)\n",
    "a=int(input(\"Enter the number for the table you want to generate:\"))\n",
    "table(a)"
   ]
  },
  {
   "cell_type": "code",
   "execution_count": 1,
   "metadata": {},
   "outputs": [
    {
     "name": "stdout",
     "output_type": "stream",
     "text": [
      "Enter the number: 1856\n",
      "The sum is: 20\n"
     ]
    }
   ],
   "source": [
    "#QUESTION-13\n",
    "def sum(n):\n",
    "    sum=0\n",
    "    while(n!=0):\n",
    "        sum=sum+(n%10)\n",
    "        n=n//10\n",
    "    print(sum)\n",
    "a=int(input(\"Enter the number: \"))\n",
    "print(\"The sum is: \",end=\"\")\n",
    "sum(a)"
   ]
  },
  {
   "cell_type": "code",
   "execution_count": 5,
   "metadata": {},
   "outputs": [
    {
     "name": "stdout",
     "output_type": "stream",
     "text": [
      "Enter the string: hey.,*&^%?\n",
      "hey\n"
     ]
    }
   ],
   "source": [
    "#QUESTION-14\n",
    "def punctuation(ch):\n",
    "    a=\"\"\n",
    "    for i in ch:\n",
    "        if(i=='!' or i=='(' or i==')' or i=='-' or i=='[' or i==']' ):\n",
    "            pass\n",
    "        elif(i=='{' or i=='}' or i==':' or i==';' or i=='\"' or i==\"'\" ):\n",
    "            pass \n",
    "        elif(i=='<' or i=='=' or i=='>' or i=='.' or i=='/' or i==\"?\"):\n",
    "            pass \n",
    "        elif(i=='@' or i=='#' or i=='$' or i=='%' or i=='^' or i=='&'):\n",
    "            pass \n",
    "        elif(i=='_' or i=='~' or i=='*' or i==','):\n",
    "            pass\n",
    "        else:\n",
    "            a+=i\n",
    "    print(a)\n",
    "ch1=input(\"Enter the string: \")\n",
    "punctuation(ch1)"
   ]
  },
  {
   "cell_type": "code",
   "execution_count": 41,
   "metadata": {},
   "outputs": [
    {
     "name": "stdout",
     "output_type": "stream",
     "text": [
      "Enter the number: 1234\n",
      "The reverse is:4321"
     ]
    }
   ],
   "source": [
    "#QUESTION-15\n",
    "def reverse(n):\n",
    "    reverse=0    \n",
    "    while(n>0):    \n",
    "        reminder=n%10    \n",
    "        reverse=(reverse*10)+reminder   \n",
    "        n=n//10\n",
    "    print(reverse,end=\"\")\n",
    "b=int(input(\"Enter the number: \"))\n",
    "print(\"The reverse is:\",end=\"\")\n",
    "reverse(b)"
   ]
  },
  {
   "cell_type": "code",
   "execution_count": null,
   "metadata": {},
   "outputs": [],
   "source": []
  }
 ],
 "metadata": {
  "kernelspec": {
   "display_name": "Python 3",
   "language": "python",
   "name": "python3"
  },
  "language_info": {
   "codemirror_mode": {
    "name": "ipython",
    "version": 3
   },
   "file_extension": ".py",
   "mimetype": "text/x-python",
   "name": "python",
   "nbconvert_exporter": "python",
   "pygments_lexer": "ipython3",
   "version": "3.7.3"
  }
 },
 "nbformat": 4,
 "nbformat_minor": 2
}
