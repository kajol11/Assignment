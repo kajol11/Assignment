{
 "cells": [
  {
   "cell_type": "markdown",
   "metadata": {},
   "source": [
    "## ASSIGNMENT-2"
   ]
  },
  {
   "cell_type": "code",
   "execution_count": 6,
   "metadata": {},
   "outputs": [
    {
     "name": "stdout",
     "output_type": "stream",
     "text": [
      "Enter the string: coding blocks\n",
      "Length is:  13\n"
     ]
    }
   ],
   "source": [
    "#QUESTION-1\n",
    "ch=input(\"Enter the string: \")\n",
    "count=0\n",
    "for i in ch:\n",
    "    count+=1\n",
    "print(\"Length is: \",count)    "
   ]
  },
  {
   "cell_type": "code",
   "execution_count": 2,
   "metadata": {},
   "outputs": [
    {
     "name": "stdout",
     "output_type": "stream",
     "text": [
      "Enter the string: hello\n",
      "Enter the second string: world\n",
      "Concatenated string is: \n"
     ]
    },
    {
     "data": {
      "text/plain": [
       "'helloworld'"
      ]
     },
     "execution_count": 2,
     "metadata": {},
     "output_type": "execute_result"
    }
   ],
   "source": [
    "#QUESTION-2\n",
    "a=input(\"Enter the string: \")\n",
    "b=input(\"Enter the second string: \")\n",
    "print(\"Concatenated string is: \")\n",
    "#print(\"%s%s\"%(a,b))\n",
    "a+b"
   ]
  },
  {
   "cell_type": "code",
   "execution_count": 37,
   "metadata": {},
   "outputs": [
    {
     "name": "stdout",
     "output_type": "stream",
     "text": [
      "Enter the string: heyy coding blocks 123\n",
      "The number of letters= 16, Digit= 3 in this string\n"
     ]
    }
   ],
   "source": [
    "#QUESTION=3\n",
    "ch=input(\"Enter the string: \")\n",
    "count=0\n",
    "count1=0\n",
    "count2=0\n",
    "for i in ch:\n",
    "    if(i.isdigit()):\n",
    "        count1+=1\n",
    "    elif(i.isspace()):\n",
    "            count2+=1\n",
    "    else:\n",
    "        count+=1        \n",
    "print(\"The number of letters= %d, Digit= %d in this string\"%(count,count1))            "
   ]
  },
  {
   "cell_type": "code",
   "execution_count": 43,
   "metadata": {},
   "outputs": [
    {
     "name": "stdout",
     "output_type": "stream",
     "text": [
      "Enter the string: hello\n",
      "HELLO"
     ]
    }
   ],
   "source": [
    "#QUESTION-4\n",
    "ch=input(\"Enter the string: \")\n",
    "for i in ch:\n",
    "    if (i.islower()):\n",
    "        ch=(i.upper())\n",
    "        print(ch,end=\"\")\n",
    "    elif(i.isupper()):\n",
    "        print(\"WRONG INPUT\")       "
   ]
  },
  {
   "cell_type": "code",
   "execution_count": 46,
   "metadata": {},
   "outputs": [
    {
     "name": "stdout",
     "output_type": "stream",
     "text": [
      "Enter the string: HEY coding BLOCKS\n",
      "LOWER CASE LETTER=6 , UPPER CASE LETTER=9\n"
     ]
    }
   ],
   "source": [
    "#QUESTION-5\n",
    "ch=input(\"Enter the string: \")\n",
    "lower=0\n",
    "upper=0\n",
    "for i in ch:\n",
    "    if(i.islower()):\n",
    "        lower+=1\n",
    "    elif(i.isupper()):\n",
    "        upper+=1\n",
    "print(\"LOWER CASE LETTER=%d , UPPER CASE LETTER=%d\"%(lower,upper))        "
   ]
  },
  {
   "cell_type": "code",
   "execution_count": 113,
   "metadata": {},
   "outputs": [
    {
     "name": "stdout",
     "output_type": "stream",
     "text": [
      "Enter the string: CODING block\n",
      "coding BLOCK"
     ]
    }
   ],
   "source": [
    "#QUESTION-6\n",
    "ch=input(\"Enter the string: \")\n",
    "for i in ch:\n",
    "    if(i.islower()):\n",
    "        ch=i.upper()\n",
    "        print(ch,end=\"\")\n",
    "    elif(i.isspace()):\n",
    "        print(\" \",end=\"\")\n",
    "    elif(i.isupper()):\n",
    "        ch1=i.lower()\n",
    "        print(ch1,end=\"\")"
   ]
  },
  {
   "cell_type": "code",
   "execution_count": 3,
   "metadata": {},
   "outputs": [
    {
     "name": "stdout",
     "output_type": "stream",
     "text": [
      "Enter the string: this is a test string\n",
      "Occurence of i:  3\n"
     ]
    }
   ],
   "source": [
    "#QUESTION-7\n",
    "ch=input(\"Enter the string: \")\n",
    "count=0\n",
    "for i in ch:\n",
    "    if(i==\"i\" or i==\"I\"):\n",
    "        count+=1\n",
    "print(\"Occurence of i: \",count)        "
   ]
  },
  {
   "cell_type": "code",
   "execution_count": 120,
   "metadata": {},
   "outputs": [
    {
     "name": "stdout",
     "output_type": "stream",
     "text": [
      "Enter the string: NAMAN\n",
      "String is palindrome\n"
     ]
    }
   ],
   "source": [
    "#QUESTION-8\n",
    "a=(input(\"Enter the string: \"))\n",
    "b=a[::-1]\n",
    "if(a==b):\n",
    "    print(\"String is palindrome\")\n",
    "else:\n",
    "    print(\"String is not palindrome\")"
   ]
  },
  {
   "cell_type": "code",
   "execution_count": 137,
   "metadata": {},
   "outputs": [
    {
     "name": "stdout",
     "output_type": "stream",
     "text": [
      "Enter the string: hello\n",
      "Enter the index: 0\n",
      "Enter the character: j\n",
      "New string is:jello\n"
     ]
    }
   ],
   "source": [
    "#QUESTION-9\n",
    "s=list(input(\"Enter the string: \"))\n",
    "n=int(input(\"Enter the index: \"))\n",
    "c=input(\"Enter the character: \")\n",
    "s[n]=c\n",
    "print(\"New string is:\",end=\"\")\n",
    "print(\"\".join(s))       "
   ]
  },
  {
   "cell_type": "code",
   "execution_count": 112,
   "metadata": {},
   "outputs": [
    {
     "name": "stdout",
     "output_type": "stream",
     "text": [
      "Enter the string: hey hey\n",
      "Enter the substring: hey\n",
      "The substrings are:2\n"
     ]
    }
   ],
   "source": [
    "#QUESTION-10\n",
    "a=input(\"Enter the string: \")\n",
    "b=input(\"Enter the substring: \")\n",
    "print(\"The substrings are:\",end=\"\")\n",
    "print(a.count(b))    "
   ]
  },
  {
   "cell_type": "code",
   "execution_count": 8,
   "metadata": {},
   "outputs": [
    {
     "name": "stdout",
     "output_type": "stream",
     "text": [
      "Enter the string: CODING BLOCK\n",
      "Reversed string is:  KCOLB GNIDOC\n"
     ]
    }
   ],
   "source": [
    "#QUESTION-12\n",
    "a=(input(\"Enter the string: \"))\n",
    "b=a[::-1]\n",
    "print(\"Reversed string is: \",b)"
   ]
  },
  {
   "cell_type": "code",
   "execution_count": 141,
   "metadata": {},
   "outputs": [
    {
     "name": "stdout",
     "output_type": "stream",
     "text": [
      "Enter the main string: hey jupyter notebook\n",
      "Enter the substring: python\n",
      "No, there is no substring\n"
     ]
    }
   ],
   "source": [
    "#QUESTION-14\n",
    "def substring(c,d):\n",
    "    if d in c:\n",
    "        print(\"Yes, there is a substring\")\n",
    "    else:\n",
    "        print(\"No, there is no substring\")\n",
    "a=input(\"Enter the main string: \")\n",
    "b=input(\"Enter the substring: \")\n",
    "substring(a,b)"
   ]
  }
 ],
 "metadata": {
  "kernelspec": {
   "display_name": "Python 3",
   "language": "python",
   "name": "python3"
  },
  "language_info": {
   "codemirror_mode": {
    "name": "ipython",
    "version": 3
   },
   "file_extension": ".py",
   "mimetype": "text/x-python",
   "name": "python",
   "nbconvert_exporter": "python",
   "pygments_lexer": "ipython3",
   "version": "3.7.3"
  }
 },
 "nbformat": 4,
 "nbformat_minor": 2
}
