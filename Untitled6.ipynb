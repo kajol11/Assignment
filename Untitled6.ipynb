{
 "cells": [
  {
   "cell_type": "code",
   "execution_count": 3,
   "metadata": {},
   "outputs": [
    {
     "name": "stdout",
     "output_type": "stream",
     "text": [
      "Enter your name? kajol\n",
      "Enter your pin? 1234\n",
      "Would you like to \n",
      " 1)deposit\n",
      " 2)withdraw\n",
      " 3)check balance\n",
      " 4)exit\n",
      " write your choice: 1\n",
      "How much would you like to deposit? 1000\n",
      "Sucesfully Deposited money\n",
      "Would you like to \n",
      " 1)deposit\n",
      " 2)withdraw\n",
      " 3)check balance\n",
      " 4)exit\n",
      " write your choice: 3\n",
      "Your current balance in your respected account is:\n",
      "Rs.1000.0\n",
      "Would you like to \n",
      " 1)deposit\n",
      " 2)withdraw\n",
      " 3)check balance\n",
      " 4)exit\n",
      " write your choice: 4\n",
      "Goodbye!\n",
      "Thank you for using our ATM service...\n"
     ]
    }
   ],
   "source": [
    "accountfile=open(\"ATMACC.txt\", \"a\")\n",
    "name=input(\"Enter your name? \")\n",
    "pin=input(\"Enter your pin? \")\n",
    "accountfile.write(\"Name: \" + name + \"\\n\" + \"PIN: \" + pin + \"\\n\")\n",
    "USER_BALANCE = 0\n",
    "class BankAcc(object):\n",
    "    def __init__(self,name,pin,balance):\n",
    "        self.name=name\n",
    "        self.pin=pin\n",
    "        self.balance=0\n",
    "    def __str__(self):\n",
    "        return \"Bank Account with Balance {}\".format(self.name,self.balance)\n",
    "    def checkbalance(self):\n",
    "        print(self)\n",
    "    def deposit(self,amount):\n",
    "        self.amount += amount\n",
    "    def withdraw(self,amount):\n",
    "        if self.balance > amount:\n",
    "            self.balance -= amount\n",
    "        else:\n",
    "            raise ValueError\n",
    "            print(\"\\nSORRY!!!!\\n You entered amount more than your current balnace.\")\n",
    "while True:\n",
    "    answer=input(\"Would you like to \\n 1)deposit\\n 2)withdraw\\n 3)check balance\\n 4)exit\\n write your choice: \")\n",
    "    if answer==\"1\":\n",
    "        x= input(\"How much would you like to deposit? \")\n",
    "        USER_BALANCE += float(x)\n",
    "        print(\"Sucesfully Deposited money\")\n",
    "        #print (\"Your new balance is: Rs.\" + str(USER_BALANCE))\n",
    "        accountfile.write(\"\\n\" + \"Deposit of Rs.\" + x + \".\" + \" \" + \"Current balance is Rs.\" + str(USER_BALANCE))\n",
    "        continue\n",
    "    elif answer== \"2\":\n",
    "        y= input(\"How much would you like to withdraw? \")\n",
    "        if float (y)<=USER_BALANCE:\n",
    "            USER_BALANCE -= float(y)\n",
    "            print (\"Your new balance is: Rs.\" + str(USER_BALANCE))\n",
    "            accountfile.write(\"\\n\" + \"Withdraw of Rs.\" + y + \".\" + \" \" + \"Current balance is Rs.\" + str(USER_BALANCE))\n",
    "            continue\n",
    "        else:\n",
    "            print (\"Cannot be done. You have insufficient funds.\")\n",
    "    elif answer== \"3\":\n",
    "        print(\"Your current balance in your respected account is:\")\n",
    "        print (\"Rs.\" + str(USER_BALANCE))\n",
    "    elif answer==\"4\":\n",
    "        print (\"Goodbye!\\nThank you for using our ATM service...\")\n",
    "        accountfile.close()\n",
    "        break\n",
    "    else:\n",
    "        print (\"I'm sorry, that is not an option\")"
   ]
  },
  {
   "cell_type": "code",
   "execution_count": null,
   "metadata": {},
   "outputs": [],
   "source": []
  }
 ],
 "metadata": {
  "kernelspec": {
   "display_name": "Python 3",
   "language": "python",
   "name": "python3"
  },
  "language_info": {
   "codemirror_mode": {
    "name": "ipython",
    "version": 3
   },
   "file_extension": ".py",
   "mimetype": "text/x-python",
   "name": "python",
   "nbconvert_exporter": "python",
   "pygments_lexer": "ipython3",
   "version": "3.7.3"
  }
 },
 "nbformat": 4,
 "nbformat_minor": 2
}
