{
 "cells": [
  {
   "cell_type": "markdown",
   "metadata": {},
   "source": [
    "### ASSIGNMENT-1"
   ]
  },
  {
   "cell_type": "code",
   "execution_count": 7,
   "metadata": {},
   "outputs": [
    {
     "name": "stdout",
     "output_type": "stream",
     "text": [
      "BEFORE SWAPPING VALUES ARE:\n",
      " x=  3\n",
      "y=  5\n",
      "AFTER SWAAPPING VALUES ARE:\n",
      " x=  5\n",
      "y=  3\n"
     ]
    }
   ],
   "source": [
    "#SWAPPING TWO VARIABLES\n",
    "x=3\n",
    "y=5\n",
    "print(\"BEFORE SWAPPING VALUES ARE:\\n x= \",x)\n",
    "print(\"y= \",y)\n",
    "x=x+y\n",
    "y=x-y\n",
    "x=x-y\n",
    "print(\"AFTER SWAAPPING VALUES ARE:\\n x= \",x)\n",
    "print(\"y= \",y)"
   ]
  },
  {
   "cell_type": "code",
   "execution_count": 11,
   "metadata": {},
   "outputs": [
    {
     "name": "stdout",
     "output_type": "stream",
     "text": [
      "enter a number: 10\n",
      "Even no. 10\n"
     ]
    }
   ],
   "source": [
    "#WAP TO CHECK A NUMBER IS EVEN OR ODD\n",
    "n=int(input(\"enter a number: \"))\n",
    "if n%2==0:\n",
    "    print(\"Even no. %d\"%n)\n",
    "else:\n",
    "    print(\"odd no. %d\"%n)"
   ]
  },
  {
   "cell_type": "code",
   "execution_count": 17,
   "metadata": {},
   "outputs": [
    {
     "name": "stdout",
     "output_type": "stream",
     "text": [
      "Enter the number: 8\n",
      "The square root of 8.00 is 2.8284\n"
     ]
    }
   ],
   "source": [
    "#SQUARE ROOT OF A NUMBER\n",
    "n=float(input(\"Enter the number: \"))\n",
    "num_sqrt=n**0.5\n",
    "print(\"The square root of %0.2f is %0.4f\"%(n,num_sqrt))"
   ]
  },
  {
   "cell_type": "code",
   "execution_count": 85,
   "metadata": {},
   "outputs": [
    {
     "name": "stdout",
     "output_type": "stream",
     "text": [
      "Enter the number: 10\n",
      "1,2,3,4,5,6,7,8,9,10,\n",
      "Now in reverse order: \n",
      "10,9,8,7,6,5,4,3,2,1,"
     ]
    }
   ],
   "source": [
    "#Write a program to print all the natural numbers from 1 to n (user input). Then print the same in reverse order\n",
    "n=int(input(\"Enter the number: \"))\n",
    "for i in range(1,n+1):\n",
    "    print(i,end=\",\")\n",
    "print(\"\\nNow in reverse order: \")\n",
    "for i in range(n,0,-1):\n",
    "    print(i,end=\",\")"
   ]
  },
  {
   "cell_type": "code",
   "execution_count": 24,
   "metadata": {},
   "outputs": [
    {
     "name": "stdout",
     "output_type": "stream",
     "text": [
      "Enter the radius: 2\n",
      "The volume of sphere is:  16.746666666666666\n"
     ]
    }
   ],
   "source": [
    "# Write a program which prints volume of a sphere, given the radius. (use pi = 3.14).\n",
    "r=float(input(\"Enter the radius: \"))\n",
    "b= (4/3)*3.14*r*r\n",
    "print(\"The volume of sphere is: \",b)"
   ]
  },
  {
   "cell_type": "code",
   "execution_count": 35,
   "metadata": {},
   "outputs": [
    {
     "name": "stdout",
     "output_type": "stream",
     "text": [
      "Even numbers are: \n",
      "2,4,6,8,10,12,14,16,18,20,22,24,26,28,30,32,34,36,38,40,42,44,46,48,50,52,54,56,58,60,62,64,66,68,70,72,74,76,78,80,82,84,86,88,90,92,94,96,98,100,\n",
      "\n",
      "Odd numbers are: \n",
      "1,3,5,7,9,11,13,15,17,19,21,23,25,27,29,31,33,35,37,39,41,43,45,47,49,51,53,55,57,59,61,63,65,67,69,71,73,75,77,79,81,83,85,87,89,91,93,95,97,99,"
     ]
    }
   ],
   "source": [
    "# Print all odd numbers and even numbers between 1 to 100.\n",
    "print(\"Even numbers are: \")\n",
    "for i in range(1,101):\n",
    "    if i%2==0:\n",
    "        print(i,end=\",\")\n",
    "print(\"\\n\\nOdd numbers are: \")    \n",
    "for i in range(1,101):\n",
    "    if i%2!=0:\n",
    "        print(i,end=\",\")"
   ]
  },
  {
   "cell_type": "code",
   "execution_count": 43,
   "metadata": {},
   "outputs": [
    {
     "name": "stdout",
     "output_type": "stream",
     "text": [
      "Enter values for the quardatic equation\n",
      "Enter value for a: 2\n",
      "Enter value for b: 4\n",
      "Enter value for c: 1\n",
      "The square roots of the quadratic equation are: -0.293 -1.707\n"
     ]
    }
   ],
   "source": [
    "# Write a program to compute roots of a quadratic equation when coefficients a, b and c are known (entered by the user). \n",
    "import math\n",
    "print(\"Enter values for the quardatic equation\")\n",
    "a=float(input(\"Enter value for a: \"))\n",
    "b=float(input(\"Enter value for b: \"))\n",
    "c=float(input(\"Enter value for c: \"))\n",
    "d=math.sqrt((b*b)-(4*a*c))\n",
    "x=((-b)+d)/(2*a)\n",
    "y=((-b)-d)/(2*a)\n",
    "print(\"The square roots of the quadratic equation are: %0.3f %0.3f\"%(x,y))"
   ]
  },
  {
   "cell_type": "code",
   "execution_count": 6,
   "metadata": {},
   "outputs": [
    {
     "name": "stdout",
     "output_type": "stream",
     "text": [
      "Enter the number/digits: 5342\n",
      "The number of digits are:  4\n"
     ]
    }
   ],
   "source": [
    "#Count the number of digits in a number. Example: 5342 has 4 digits.\n",
    "count=0\n",
    "n=int(input(\"Enter the number/digits: \"))\n",
    "while(n>0):\n",
    "    if n==0:\n",
    "        count+=1\n",
    "    count+=1\n",
    "    n=n//10    \n",
    "print(\"The number of digits are: \",count)        "
   ]
  },
  {
   "cell_type": "code",
   "execution_count": 8,
   "metadata": {},
   "outputs": [
    {
     "name": "stdout",
     "output_type": "stream",
     "text": [
      "Enter the number: 6\n",
      "FALSE\n"
     ]
    }
   ],
   "source": [
    "#Write a program to check if a number is prime or not. Example: 7 ==> True, 6 ==> False \n",
    "n=int(input(\"Enter the number: \"))\n",
    "flag=0\n",
    "for i in range(2,n):\n",
    "        if(n%i==0):\n",
    "            print(\"FALSE\")\n",
    "            flag=1\n",
    "            break\n",
    "if(flag!=1):\n",
    "    print(\"TRUE\")"
   ]
  },
  {
   "cell_type": "code",
   "execution_count": 33,
   "metadata": {},
   "outputs": [
    {
     "name": "stdout",
     "output_type": "stream",
     "text": [
      "Enter the number: 17\n",
      "3,5,6,9,10,12,15,\n",
      "The sum is:  60\n"
     ]
    }
   ],
   "source": [
    "# Write a program that asks the user for a number n and prints the sum of the numbers 1 to n \n",
    "# such that only multiples of three or five are considered in the sum,\n",
    "# e.g. 3, 5, 6, 9, 10, 12, 15 for n=17.\n",
    "n=int(input(\"Enter the number: \"))\n",
    "sum=0\n",
    "for i in range(1,n+1):\n",
    "    if(i%3==0) or (i%5==0):\n",
    "        print(i,end=\",\")\n",
    "        sum=sum+i\n",
    "print(\"\\nThe sum is: \",sum)        \n",
    "    "
   ]
  },
  {
   "cell_type": "code",
   "execution_count": 41,
   "metadata": {},
   "outputs": [
    {
     "name": "stdout",
     "output_type": "stream",
     "text": [
      "Enter the number: 5\n",
      "Enter your choice:\n",
      "1.FOR SUM\n",
      "2.FOR PRODUCT\n",
      "1\n",
      "The sum is:  15\n"
     ]
    }
   ],
   "source": [
    "# Write a program that asks the user for a number n and gives them the possibility \n",
    "# to choose between computing the sum and computing the product of 1,…,n. \n",
    "n=int(input(\"Enter the number: \"))\n",
    "b=int(input(\"Enter your choice:\\n1.FOR SUM\\n2.FOR PRODUCT\\n\"))\n",
    "sum=0\n",
    "product=1\n",
    "if(b==1):\n",
    "    for i in range(1,n+1):\n",
    "        sum=sum+i\n",
    "    print(\"The sum is: \",sum)\n",
    "elif(b==2):\n",
    "    for i in range(1,n+1):\n",
    "        product=product*i\n",
    "    print(\"The product is: \",product)\n",
    "else:\n",
    "    print(\"WRONG CHOICE ENTERED\")"
   ]
  },
  {
   "cell_type": "code",
   "execution_count": 53,
   "metadata": {},
   "outputs": [
    {
     "name": "stdout",
     "output_type": "stream",
     "text": [
      "The sum of all the multiples of 3 or 5 below 1000:\n",
      "233168\n"
     ]
    }
   ],
   "source": [
    "# Find the sum of all the multiples of 3 or 5 below 1000.\n",
    "sum=0\n",
    "print(\"The sum of all the multiples of 3 or 5 below 1000:\")\n",
    "for i in range(1,1000):\n",
    "    if(i%3==0) or(i%5==0):\n",
    "        sum=sum+i\n",
    "print(sum)        \n",
    "    "
   ]
  },
  {
   "cell_type": "code",
   "execution_count": 58,
   "metadata": {},
   "outputs": [
    {
     "name": "stdout",
     "output_type": "stream",
     "text": [
      "All such numbers which are divisible by 7 but are not a multiple of 5, between 2000 and 3200: \n",
      "2002,2009,2016,2023,2037,2044,2051,2058,2072,2079,2086,2093,2107,2114,2121,2128,2142,2149,2156,2163,2177,2184,2191,2198,2212,2219,2226,2233,2247,2254,2261,2268,2282,2289,2296,2303,2317,2324,2331,2338,2352,2359,2366,2373,2387,2394,2401,2408,2422,2429,2436,2443,2457,2464,2471,2478,2492,2499,2506,2513,2527,2534,2541,2548,2562,2569,2576,2583,2597,2604,2611,2618,2632,2639,2646,2653,2667,2674,2681,2688,2702,2709,2716,2723,2737,2744,2751,2758,2772,2779,2786,2793,2807,2814,2821,2828,2842,2849,2856,2863,2877,2884,2891,2898,2912,2919,2926,2933,2947,2954,2961,2968,2982,2989,2996,3003,3017,3024,3031,3038,3052,3059,3066,3073,3087,3094,3101,3108,3122,3129,3136,3143,3157,3164,3171,3178,3192,3199,"
     ]
    }
   ],
   "source": [
    "# Write a program which will find all such numbers which are divisible by 7 \n",
    "# but are not a multiple of 5, between 2000 and 3200 (both included). \n",
    "print(\"All such numbers which are divisible by 7 but are not a multiple of 5, between 2000 and 3200: \")\n",
    "for i in range(2000,3201):\n",
    "    if (i%7==0) and (i%5!=0):\n",
    "        print(i,end=\",\")"
   ]
  },
  {
   "cell_type": "code",
   "execution_count": 93,
   "metadata": {},
   "outputs": [
    {
     "name": "stdout",
     "output_type": "stream",
     "text": [
      "The difference is: 114480384150\n"
     ]
    }
   ],
   "source": [
    "# Find the difference between the sum of the squares of the first one hundred natural numbers and the square of the sum.\n",
    "sum=0\n",
    "sum_square=0\n",
    "for i in range(1,101):\n",
    "    sum=sum+(i*i)  \n",
    "sum_square=sum*sum\n",
    "d=sum_square-sum\n",
    "print(\"The difference is:\",d)    "
   ]
  },
  {
   "cell_type": "code",
   "execution_count": 104,
   "metadata": {},
   "outputs": [
    {
     "name": "stdout",
     "output_type": "stream",
     "text": [
      "Enter a number: 1\n",
      "Type stop/other than digit when you wants to end this: 0\n",
      "Enter a number: 2\n",
      "Type stop/other than digit when you wants to end this: 80\n",
      "Enter a number: 3\n",
      "Type stop/other than digit when you wants to end this: heyy\n",
      "Total=  6 Count=  3 Average=  2.0\n"
     ]
    }
   ],
   "source": [
    "#question-15\n",
    "count=0\n",
    "total=0\n",
    "a=\"start\"\n",
    "while(a!=\"stop\"):\n",
    "    n=int(input(\"Enter a number: \"))\n",
    "    count+=1\n",
    "    total+=n\n",
    "    ch=input(\"Type stop/other than digit when you wants to end this: \")\n",
    "    if((ch >= 'a' and ch <= 'z') or (ch >= 'A' and ch <= 'Z')): \n",
    "        break\n",
    "    elif(ch >= '0' and ch <= '9'):\n",
    "        pass\n",
    "    else:\n",
    "        break    \n",
    "print(\"Total= \",total,\"Count= \",count,\"Average= \",(total/count))    "
   ]
  },
  {
   "cell_type": "code",
   "execution_count": 19,
   "metadata": {},
   "outputs": [
    {
     "name": "stdout",
     "output_type": "stream",
     "text": [
      "Enter the number: 30\n",
      "The prime numbers between 1 and 30 are: \n",
      "2,3,5,7,11,13,17,19,23,29,"
     ]
    }
   ],
   "source": [
    "# Write a program that prints all prime numbers till n. (n is the user input)\n",
    "first_value=1\n",
    "n=int(input(\"Enter the number: \"))\n",
    "print(\"The prime numbers between\",first_value,\"and\",n,\"are: \")\n",
    "for n in range(first_value,n+1):\n",
    "    if n>1:\n",
    "        for i in range(2,(n//2)+1):\n",
    "            if (n%i==0):\n",
    "                break\n",
    "        else:\n",
    "            print(n,end=\",\")           "
   ]
  },
  {
   "cell_type": "code",
   "execution_count": 21,
   "metadata": {},
   "outputs": [
    {
     "name": "stdout",
     "output_type": "stream",
     "text": [
      "Enter a number for the factorial: 5\n",
      "The factorial of 5 is:  120\n"
     ]
    }
   ],
   "source": [
    "# Write a program which can compute the factorial of a given number.\n",
    "def factorial(n):\n",
    "    if(n==1):\n",
    "        return n\n",
    "    else:\n",
    "        return n*factorial(n-1)\n",
    "num=int(input(\"Enter a number for the factorial: \"))        \n",
    "print(\"The factorial of\", num,\"is: \",factorial(num))"
   ]
  },
  {
   "cell_type": "code",
   "execution_count": 31,
   "metadata": {},
   "outputs": [
    {
     "name": "stdout",
     "output_type": "stream",
     "text": [
      "Enter the number for fibonacci series: 6\n",
      "0,1,1,2,3,5,"
     ]
    }
   ],
   "source": [
    "# Write a program for printing fibonacci series till n.\n",
    "a=0\n",
    "b=1\n",
    "n=int(input(\"Enter the number for fibonacci series: \"))\n",
    "print(a,b,sep=\",\",end=\",\")\n",
    "for i in range(3,n+1):\n",
    "    c=a+b\n",
    "    print(c,end=\",\")\n",
    "    a=b\n",
    "    b=c"
   ]
  },
  {
   "cell_type": "code",
   "execution_count": 83,
   "metadata": {},
   "outputs": [
    {
     "name": "stdout",
     "output_type": "stream",
     "text": [
      "Enter your first number: 54\n",
      "Enter your second number: 24\n",
      "The LCM 0f 54 , 24 is 216\n"
     ]
    }
   ],
   "source": [
    "# Write a program to find the LCM of two numbers. \n",
    "n1=int(input(\"Enter your first number: \"))\n",
    "n2=int(input(\"Enter your second number: \"))\n",
    "if(n1>n2):\n",
    "    greater=n1\n",
    "else:\n",
    "    greater=n2\n",
    "while(1):\n",
    "    if(greater%n1==0) and (greater%n2==0):\n",
    "        leastcm=greater\n",
    "        break\n",
    "    greater=greater+1\n",
    "print(\"The LCM 0f\",n1,\",\",n2,\"is\",leastcm)       "
   ]
  },
  {
   "cell_type": "code",
   "execution_count": 12,
   "metadata": {},
   "outputs": [
    {
     "name": "stdout",
     "output_type": "stream",
     "text": [
      "Enter the number: 10\n",
      "The factors are:1,2,5,10,"
     ]
    }
   ],
   "source": [
    "# Write a program to find factors of a number.\n",
    "n=int(input(\"Enter the number: \"))\n",
    "print(\"The factors are\",end=\":\")\n",
    "for i in range(1,n+1):\n",
    "    if(n%i==0):\n",
    "        print(i,end=\",\")"
   ]
  },
  {
   "cell_type": "code",
   "execution_count": 15,
   "metadata": {},
   "outputs": [
    {
     "name": "stdout",
     "output_type": "stream",
     "text": [
      " Enter your number: 5\n",
      "*\n",
      "**\n",
      "***\n",
      "****\n",
      "*****\n"
     ]
    }
   ],
   "source": [
    "# Write a program to print the following pattern\n",
    "n=int(input(\" Enter your number: \"))\n",
    "for i in range(1,n+1):\n",
    "        print(\"*\"*i ,end=\"\\n\")"
   ]
  },
  {
   "cell_type": "code",
   "execution_count": 17,
   "metadata": {},
   "outputs": [
    {
     "name": "stdout",
     "output_type": "stream",
     "text": [
      " Enter your number: 7\n",
      "*******\n",
      "******\n",
      "*****\n",
      "****\n",
      "***\n",
      "**\n",
      "*\n"
     ]
    }
   ],
   "source": [
    "# Write a program to print the following pattern\n",
    "n=int(input(\" Enter your number: \"))\n",
    "for i in range(n,0,-1):\n",
    "        print(\"*\"*i ,end=\"\\n\")"
   ]
  },
  {
   "cell_type": "code",
   "execution_count": 44,
   "metadata": {},
   "outputs": [
    {
     "name": "stdout",
     "output_type": "stream",
     "text": [
      " Enter your number: 5\n",
      "1 \n",
      "\n",
      "2 2 \n",
      "\n",
      "3 3 3 \n",
      "\n",
      "4 4 4 4 \n",
      "\n",
      "5 5 5 5 5 \n",
      "\n"
     ]
    }
   ],
   "source": [
    "# Write a program to print the following pattern\n",
    "n=int(input(\" Enter your number: \"))\n",
    "for i in range(1,n+1):\n",
    "    for j in range(1,i+1):\n",
    "        print(i,end=\" \")\n",
    "    print(\"\\n\")    "
   ]
  },
  {
   "cell_type": "code",
   "execution_count": 53,
   "metadata": {},
   "outputs": [
    {
     "name": "stdout",
     "output_type": "stream",
     "text": [
      "enter your number: 4\n",
      "   * \n",
      "  * * \n",
      " * * * \n",
      "* * * * \n"
     ]
    }
   ],
   "source": [
    "# Write a program to print the following pattern\n",
    "n=int(input(\"enter your number: \"))                                                                                    \n",
    "for i in range(0,n):\n",
    "    for j in range(0,n-i-1):\n",
    "        print(end=\" \")\n",
    "    for j in range(0,i+1):\n",
    "        print(\"*\",end=\" \")\n",
    "    print()    "
   ]
  },
  {
   "cell_type": "code",
   "execution_count": 59,
   "metadata": {},
   "outputs": [
    {
     "name": "stdout",
     "output_type": "stream",
     "text": [
      " Enter your number: 5\n",
      "1 \n",
      "\n",
      "2 3 \n",
      "\n",
      "4 5 6 \n",
      "\n",
      "7 8 9 10 \n",
      "\n"
     ]
    }
   ],
   "source": [
    "# Write a program to print the following pattern\n",
    "n=int(input(\" Enter your number: \"))\n",
    "k=0\n",
    "for i in range(1,n):\n",
    "    for j in range(1,i+1):\n",
    "        k+=1\n",
    "        print(k,end=\" \")\n",
    "    print(\"\\n\")    "
   ]
  },
  {
   "cell_type": "code",
   "execution_count": 64,
   "metadata": {},
   "outputs": [
    {
     "name": "stdout",
     "output_type": "stream",
     "text": [
      " Enter your number: 5\n",
      "A \n",
      "\n",
      "B C \n",
      "\n",
      "D E F \n",
      "\n",
      "G H I J \n",
      "\n"
     ]
    }
   ],
   "source": [
    "# Write a program to print the following pattern\n",
    "n=int(input(\" Enter your number: \"))\n",
    "ch=64\n",
    "for i in range(1,n):\n",
    "    for j in range(1,i+1):\n",
    "        ch+=1\n",
    "        print(chr(ch),end=\" \")\n",
    "    print(\"\\n\")    "
   ]
  },
  {
   "cell_type": "code",
   "execution_count": 78,
   "metadata": {},
   "outputs": [
    {
     "name": "stdout",
     "output_type": "stream",
     "text": [
      "Enter the number: 9\n",
      "The series is: \n",
      "9+99+999+9999+\n",
      "The sum is: 11106\n"
     ]
    }
   ],
   "source": [
    "#question-22\n",
    "n=int(input(\"Enter the number: \"))\n",
    "sum=0\n",
    "print(\"The series is: \")\n",
    "def repeat(n,r):\n",
    "    a=n\n",
    "    while(r>1):\n",
    "        a=a*10\n",
    "        a=a+n\n",
    "        r-=1\n",
    "    return a\n",
    "for i in range(1,5):\n",
    "    temp=repeat(n,i)\n",
    "    print(temp,end=\"+\")\n",
    "    sum=sum+temp\n",
    "print(\"\\nThe sum is:\",sum)    "
   ]
  }
 ],
 "metadata": {
  "kernelspec": {
   "display_name": "Python 3",
   "language": "python",
   "name": "python3"
  },
  "language_info": {
   "codemirror_mode": {
    "name": "ipython",
    "version": 3
   },
   "file_extension": ".py",
   "mimetype": "text/x-python",
   "name": "python",
   "nbconvert_exporter": "python",
   "pygments_lexer": "ipython3",
   "version": "3.7.3"
  }
 },
 "nbformat": 4,
 "nbformat_minor": 2
}
